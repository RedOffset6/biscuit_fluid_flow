{
 "cells": [
  {
   "cell_type": "code",
   "execution_count": 13,
   "id": "5a54fa00-2848-44d8-b256-0b3479479c6f",
   "metadata": {},
   "outputs": [],
   "source": [
    "import pandas as pd\n",
    "import numpy as np\n",
    "import matplotlib.pyplot as plt"
   ]
  },
  {
   "cell_type": "markdown",
   "id": "30d5536d-a95f-4473-ae8c-e97d1c8c599e",
   "metadata": {},
   "source": [
    "# Reading Data from CSV Files"
   ]
  },
  {
   "cell_type": "code",
   "execution_count": 19,
   "id": "d0e0b869-545e-4e07-80ab-6014b2478128",
   "metadata": {},
   "outputs": [],
   "source": [
    "#reading the csv files into dataframes\n",
    "microscopy_df = pd.read_csv(\"../data/microscopy-data.csv\")\n",
    "dunking_df = pd.read_csv(\"../data/dunking-data.csv\")\n",
    "tr1_df = pd.read_csv(\"../data/tr-1.csv\")\n",
    "tr2_df = pd.read_csv(\"../data/tr-2.csv\")\n",
    "tr3_df = pd.read_csv(\"../data/tr-3.csv\")"
   ]
  },
  {
   "cell_type": "code",
   "execution_count": 20,
   "id": "15660250-cc04-4f38-a22f-d85d4df58204",
   "metadata": {},
   "outputs": [
    {
     "data": {
      "text/html": [
       "<div>\n",
       "<style scoped>\n",
       "    .dataframe tbody tr th:only-of-type {\n",
       "        vertical-align: middle;\n",
       "    }\n",
       "\n",
       "    .dataframe tbody tr th {\n",
       "        vertical-align: top;\n",
       "    }\n",
       "\n",
       "    .dataframe thead th {\n",
       "        text-align: right;\n",
       "    }\n",
       "</style>\n",
       "<table border=\"1\" class=\"dataframe\">\n",
       "  <thead>\n",
       "    <tr style=\"text-align: right;\">\n",
       "      <th></th>\n",
       "      <th>gamma</th>\n",
       "      <th>phi</th>\n",
       "      <th>eta</th>\n",
       "      <th>L</th>\n",
       "      <th>t</th>\n",
       "      <th>biscuit</th>\n",
       "    </tr>\n",
       "  </thead>\n",
       "  <tbody>\n",
       "    <tr>\n",
       "      <th>0</th>\n",
       "      <td>0.073897</td>\n",
       "      <td>1.333006</td>\n",
       "      <td>0.000999</td>\n",
       "      <td>0.011196</td>\n",
       "      <td>19.362214</td>\n",
       "      <td>Digestive</td>\n",
       "    </tr>\n",
       "    <tr>\n",
       "      <th>1</th>\n",
       "      <td>0.080946</td>\n",
       "      <td>1.476758</td>\n",
       "      <td>0.001012</td>\n",
       "      <td>0.005894</td>\n",
       "      <td>11.852589</td>\n",
       "      <td>Digestive</td>\n",
       "    </tr>\n",
       "    <tr>\n",
       "      <th>2</th>\n",
       "      <td>0.087408</td>\n",
       "      <td>1.477141</td>\n",
       "      <td>0.000984</td>\n",
       "      <td>0.009249</td>\n",
       "      <td>24.793669</td>\n",
       "      <td>Digestive</td>\n",
       "    </tr>\n",
       "    <tr>\n",
       "      <th>3</th>\n",
       "      <td>0.070793</td>\n",
       "      <td>1.502001</td>\n",
       "      <td>0.001002</td>\n",
       "      <td>0.003774</td>\n",
       "      <td>16.292780</td>\n",
       "      <td>Hobnob</td>\n",
       "    </tr>\n",
       "    <tr>\n",
       "      <th>4</th>\n",
       "      <td>0.058917</td>\n",
       "      <td>1.548274</td>\n",
       "      <td>0.001004</td>\n",
       "      <td>0.002291</td>\n",
       "      <td>13.662271</td>\n",
       "      <td>Hobnob</td>\n",
       "    </tr>\n",
       "  </tbody>\n",
       "</table>\n",
       "</div>"
      ],
      "text/plain": [
       "      gamma       phi       eta         L          t    biscuit\n",
       "0  0.073897  1.333006  0.000999  0.011196  19.362214  Digestive\n",
       "1  0.080946  1.476758  0.001012  0.005894  11.852589  Digestive\n",
       "2  0.087408  1.477141  0.000984  0.009249  24.793669  Digestive\n",
       "3  0.070793  1.502001  0.001002  0.003774  16.292780     Hobnob\n",
       "4  0.058917  1.548274  0.001004  0.002291  13.662271     Hobnob"
      ]
     },
     "execution_count": 20,
     "metadata": {},
     "output_type": "execute_result"
    }
   ],
   "source": [
    "dunking_df.head()"
   ]
  },
  {
   "cell_type": "markdown",
   "id": "79d5c521-7220-4438-a503-1c92809c88e0",
   "metadata": {},
   "source": []
  }
 ],
 "metadata": {
  "kernelspec": {
   "display_name": "Python 3 (ipykernel)",
   "language": "python",
   "name": "python3"
  },
  "language_info": {
   "codemirror_mode": {
    "name": "ipython",
    "version": 3
   },
   "file_extension": ".py",
   "mimetype": "text/x-python",
   "name": "python",
   "nbconvert_exporter": "python",
   "pygments_lexer": "ipython3",
   "version": "3.10.13"
  }
 },
 "nbformat": 4,
 "nbformat_minor": 5
}
